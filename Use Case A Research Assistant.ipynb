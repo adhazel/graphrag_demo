{
 "cells": [
  {
   "cell_type": "markdown",
   "id": "27346169",
   "metadata": {},
   "source": [
    "# Use Case A Overview: Audit Research Assistant\n",
    "\n",
    "GraphRAG does particularly well as a research assistant with large amounts of data. It is able to analyze data, draw meaningful connections, and synthesize concepts and patterns into an insightful outcome. To standup a POC for an audit research assistant, the below limited set of input data files are downloaded from Wikipedia.\n",
    "\n",
    "- [https://en.wikipedia.org/wiki/Financial_audit](https://en.wikipedia.org/wiki/Financial_audit)\n",
    "- [https://en.wikipedia.org/wiki/Internal_audit](https://en.wikipedia.org/wiki/Internal_audit)\n",
    "- [https://en.wikipedia.org/wiki/Money_laundering](https://en.wikipedia.org/wiki/Money_laundering)\n",
    "- [https://en.wikipedia.org/wiki/Financial_accounting](https://en.wikipedia.org/wiki/Financial_accounting)\n",
    "- [https://en.wikipedia.org/wiki/Forensic_accounting](https://en.wikipedia.org/wiki/Forensic_accounting)\n",
    "- [https://en.wikipedia.org/wiki/Embezzlement](https://en.wikipedia.org/wiki/Embezzlement)\n",
    "- [https://en.wikipedia.org/wiki/Fraud](https://en.wikipedia.org/wiki/Fraud)\n",
    "- [https://en.wikipedia.org/wiki/Fraud_deterrence](https://en.wikipedia.org/wiki/Fraud_deterrence)\n",
    "- [https://en.wikipedia.org/wiki/Association_of_Certified_Fraud_Examiners](https://en.wikipedia.org/wiki/Association_of_Certified_Fraud_Examiners)\n",
    "\n",
    "**Outcome**: The ability to reason across documents to respond to user input will be demonstrated."
   ]
  },
  {
   "cell_type": "markdown",
   "id": "a787e5e3",
   "metadata": {},
   "source": [
    "### Re-create UseCaseA folder"
   ]
  },
  {
   "cell_type": "code",
   "execution_count": 1,
   "id": "7c1a4e92",
   "metadata": {},
   "outputs": [],
   "source": [
    "useCaseDir = \"./UseCaseA\"\n",
    "folders_to_recreate = [\"cache\",\"input\", \"output\"]\n",
    "delete_all = True\n",
    "\n",
    "import shutil\n",
    "import os\n",
    "if delete_all == True:\n",
    "    if os.path.exists(useCaseDir):\n",
    "        shutil.rmtree(useCaseDir)\n",
    "    os.mkdir(useCaseDir)\n",
    "else:\n",
    "    for folder in folders_to_recreate:\n",
    "        if os.path.exists(f\"{useCaseDir}/{folder}\"):\n",
    "            shutil.rmtree(f\"{useCaseDir}/{folder}\")\n",
    "        os.mkdir(f\"{useCaseDir}/{folder}\")\n"
   ]
  },
  {
   "cell_type": "markdown",
   "id": "8c48450c",
   "metadata": {},
   "source": [
    "### Set variables"
   ]
  },
  {
   "cell_type": "code",
   "execution_count": 2,
   "id": "bb10b096",
   "metadata": {},
   "outputs": [
    {
     "data": {
      "text/plain": [
       "True"
      ]
     },
     "execution_count": 2,
     "metadata": {},
     "output_type": "execute_result"
    }
   ],
   "source": [
    "import os, sys\n",
    "import base64, time\n",
    "from dotenv import load_dotenv\n",
    "\n",
    "load_dotenv(override=True)"
   ]
  },
  {
   "cell_type": "markdown",
   "id": "5d1173ee",
   "metadata": {},
   "source": [
    "### Define helper functions"
   ]
  },
  {
   "cell_type": "code",
   "execution_count": 3,
   "id": "47db0a26",
   "metadata": {},
   "outputs": [],
   "source": [
    "import wikipedia\n",
    "\n",
    "def download_wikipedia_page(url: str, directory: str, filename: str):\n",
    "    \"\"\"\n",
    "    Download a Wikipedia page as a UTF-8 file in the specified directory.\n",
    "\n",
    "    Args:\n",
    "        url (str): The Wikipedia page url.\n",
    "        directory (str): The directory where the file will be saved.\n",
    "        filename (str): The name of the file to save the content as.\n",
    "    \"\"\"\n",
    "    # Extract the page title from the url\n",
    "    page_title = url.split(\"/\")[-1]\n",
    "    \n",
    "    # Fetch the page content\n",
    "    try:\n",
    "        page_content = wikipedia.page(page_title, auto_suggest=False, redirect=True, preload=False).content\n",
    "    except wikipedia.exceptions.DisambiguationError as e:\n",
    "        print(f\"Disambiguation error: {e}. Please specify a more specific title.\")\n",
    "        \n",
    "    \n",
    "    \n",
    "    # Ensure the directory exists\n",
    "    os.makedirs(directory, exist_ok=True)\n",
    "    \n",
    "    # Write the content to a UTF-8 file\n",
    "    file_path = os.path.join(directory, filename)\n",
    "    with open(file_path, \"w\", encoding=\"utf-8\") as file:\n",
    "        file.write(page_content)\n",
    "    \n",
    "    print(f\"Page saved to {file_path}\")\n"
   ]
  },
  {
   "cell_type": "markdown",
   "id": "c853b0ac",
   "metadata": {},
   "source": [
    "### Get Wiki Articles"
   ]
  },
  {
   "cell_type": "code",
   "execution_count": 4,
   "id": "adc64410",
   "metadata": {},
   "outputs": [
    {
     "name": "stdout",
     "output_type": "stream",
     "text": [
      "Page saved to ./UseCaseA/input\\financial_audit.txt\n",
      "Page saved to ./UseCaseA/input\\internal_audit.txt\n",
      "Page saved to ./UseCaseA/input\\money_laundering.txt\n",
      "Page saved to ./UseCaseA/input\\financial_accounting.txt\n",
      "Page saved to ./UseCaseA/input\\forensic_accounting.txt\n",
      "Page saved to ./UseCaseA/input\\embezzlement.txt\n",
      "Page saved to ./UseCaseA/input\\fraud.txt\n",
      "Page saved to ./UseCaseA/input\\fraud_deterrence.txt\n",
      "Page saved to ./UseCaseA/input\\association_of_fraud_examiners.txt\n"
     ]
    }
   ],
   "source": [
    "wikipedia_pages = [\n",
    "    {\"url\": \"https://en.wikipedia.org/wiki/Financial_audit\", \"filename\": \"financial_audit.txt\"},\n",
    "    {\"url\": \"https://en.wikipedia.org/wiki/Internal_audit\", \"filename\": \"internal_audit.txt\"},\n",
    "    {\"url\": \"https://en.wikipedia.org/wiki/Money_laundering\", \"filename\": \"money_laundering.txt\"},\n",
    "    {\"url\": \"https://en.wikipedia.org/wiki/Financial_accounting\", \"filename\": \"financial_accounting.txt\"},\n",
    "    {\"url\": \"https://en.wikipedia.org/wiki/Forensic_accounting\", \"filename\": \"forensic_accounting.txt\"},\n",
    "    {\"url\": \"https://en.wikipedia.org/wiki/Embezzlement\", \"filename\": \"embezzlement.txt\"},\n",
    "    {\"url\": \"https://en.wikipedia.org/wiki/Fraud\", \"filename\": \"fraud.txt\"},\n",
    "    {\"url\": \"https://en.wikipedia.org/wiki/Fraud_deterrence\", \"filename\": \"fraud_deterrence.txt\"},\n",
    "    {\"url\": \"https://en.wikipedia.org/wiki/Association_of_Certified_Fraud_Examiners\", \"filename\": \"association_of_fraud_examiners.txt\"},\n",
    "]\n",
    "\n",
    "for page in wikipedia_pages:\n",
    "    download_wikipedia_page(page[\"url\"], \"./UseCaseA/input\", page[\"filename\"])"
   ]
  },
  {
   "cell_type": "markdown",
   "id": "7e991271",
   "metadata": {},
   "source": [
    "### Build the GraphRAG index"
   ]
  },
  {
   "cell_type": "code",
   "execution_count": 5,
   "id": "8d605f8e",
   "metadata": {},
   "outputs": [
    {
     "name": "stderr",
     "output_type": "stream",
     "text": [
      "c:\\Users\\aprilhazel\\Source\\graphrag_demo_202505\\graphrag_demo_202505\\.venv\\Lib\\site-packages\\tqdm\\auto.py:21: TqdmWarning: IProgress not found. Please update jupyter and ipywidgets. See https://ipywidgets.readthedocs.io/en/stable/user_install.html\n",
      "  from .autonotebook import tqdm as notebook_tqdm\n"
     ]
    },
    {
     "name": "stdout",
     "output_type": "stream",
     "text": [
      "\n"
     ]
    }
   ],
   "source": [
    "from pathlib import Path\n",
    "from pprint import pprint\n",
    "\n",
    "import pandas as pd\n",
    "\n",
    "import graphrag.api as api\n",
    "from graphrag.config.load_config import load_config\n",
    "from graphrag.index.typing.pipeline_run_result import PipelineRunResult\n",
    "module_path = os.path.abspath(os.path.join('.'))\n",
    "sys.path.append(module_path)"
   ]
  },
  {
   "cell_type": "code",
   "execution_count": 6,
   "id": "df3fa6d1",
   "metadata": {},
   "outputs": [],
   "source": [
    "PROJECT_DIRECTORY = \"UseCaseA\"\n",
    "PROJECT_PATH =os.path.join(module_path, PROJECT_DIRECTORY)"
   ]
  },
  {
   "cell_type": "code",
   "execution_count": 7,
   "id": "a8e7fa7d",
   "metadata": {},
   "outputs": [
    {
     "name": "stdout",
     "output_type": "stream",
     "text": [
      "⠋ GraphRAG Indexer \n",
      "Initializing project at \n",
      "C:\\Users\\aprilhazel\\Source\\graphrag_demo_202505\\graphrag_demo_202505\\UseCaseA\n",
      "⠋ GraphRAG Indexer \n"
     ]
    }
   ],
   "source": [
    "! graphrag init --root ./UseCaseA"
   ]
  },
  {
   "cell_type": "markdown",
   "id": "3b7c56f1",
   "metadata": {},
   "source": [
    ">\n",
    "> **STOP** The above statement generates a .env and settings.yaml file in the UseCaseA directory. \n",
    ">\n",
    "> Configure ```./UseCaseA/.env``` and ```./UseCaseA/settings.yaml``` before proceeding!\n",
    "> \n",
    "> Sample settings are shown in ```./sample_uca.settings.yaml``` file and the ```./sample.env```."
   ]
  },
  {
   "cell_type": "code",
   "execution_count": 8,
   "id": "bc41decf",
   "metadata": {},
   "outputs": [],
   "source": [
    "graphrag_config = load_config(Path(PROJECT_PATH))"
   ]
  },
  {
   "cell_type": "code",
   "execution_count": 9,
   "id": "4050371c",
   "metadata": {},
   "outputs": [
    {
     "name": "stderr",
     "output_type": "stream",
     "text": [
      "c:\\Users\\aprilhazel\\Source\\graphrag_demo_202505\\graphrag_demo_202505\\.venv\\Lib\\site-packages\\sklearn\\utils\\deprecation.py:151: FutureWarning: 'force_all_finite' was renamed to 'ensure_all_finite' in 1.6 and will be removed in 1.8.\n",
      "  warnings.warn(\n",
      "c:\\Users\\aprilhazel\\Source\\graphrag_demo_202505\\graphrag_demo_202505\\.venv\\Lib\\site-packages\\umap\\umap_.py:1952: UserWarning: n_jobs value 1 overridden to 1 by setting random_state. Use no seed for parallelism.\n",
      "  warn(\n"
     ]
    },
    {
     "name": "stdout",
     "output_type": "stream",
     "text": [
      "Workflow Name: create_base_text_units\tStatus: success\n",
      "Workflow Name: create_final_documents\tStatus: success\n",
      "Workflow Name: extract_graph\tStatus: success\n",
      "Workflow Name: finalize_graph\tStatus: success\n",
      "Workflow Name: create_communities\tStatus: success\n",
      "Workflow Name: create_final_text_units\tStatus: success\n",
      "Workflow Name: create_community_reports\tStatus: success\n",
      "Workflow Name: generate_text_embeddings\tStatus: success\n"
     ]
    }
   ],
   "source": [
    "index_result: list[PipelineRunResult] = await api.build_index(config=graphrag_config)\n",
    "\n",
    "# index_result is a list of workflows that make up the indexing pipeline that was run\n",
    "for workflow_result in index_result:\n",
    "    status = f\"error\\n{workflow_result.errors}\" if workflow_result.errors else \"success\"\n",
    "    print(f\"Workflow Name: {workflow_result.workflow}\\tStatus: {status}\")"
   ]
  },
  {
   "cell_type": "code",
   "execution_count": 10,
   "id": "40240ce0",
   "metadata": {},
   "outputs": [],
   "source": [
    "# load the index result into dataframes\n",
    "entities = pd.read_parquet(f\"{PROJECT_DIRECTORY}/output/entities.parquet\")\n",
    "communities = pd.read_parquet(f\"{PROJECT_DIRECTORY}/output/communities.parquet\")\n",
    "community_reports = pd.read_parquet(\n",
    "    f\"{PROJECT_DIRECTORY}/output/community_reports.parquet\"\n",
    ")"
   ]
  },
  {
   "cell_type": "markdown",
   "id": "b0b7d6cb",
   "metadata": {},
   "source": [
    "### Execute a GraphRAG Global Search"
   ]
  },
  {
   "cell_type": "code",
   "execution_count": 11,
   "id": "84769024",
   "metadata": {},
   "outputs": [
    {
     "name": "stdout",
     "output_type": "stream",
     "text": [
      "When conducting an accounts payable audit, there are several critical aspects and considerations to ensure the audit is thorough, effective, and compliant with relevant standards. These considerations span understanding the internal control environment, assessing fraud risks, verifying transaction accuracy, and adhering to regulatory frameworks.\n",
      "\n",
      "### 1. Understand the Audit Objectives and Scope\n",
      "\n",
      "The primary objective of an accounts payable audit is to provide reasonable assurance that accounts payable balances and transactions are accurate, complete, and properly authorized. This involves verifying that liabilities are recorded correctly, payments are made to legitimate vendors, and transactions are supported by appropriate documentation such as invoices and purchase orders. Defining the scope clearly—covering key transaction types, business areas, and relevant controls—helps tailor the audit to focus on critical risk areas [Data: Reports (174, 73, 6, 65)].\n",
      "\n",
      "### 2. Evaluate the Internal Control Environment\n",
      "\n",
      "A strong internal control environment is fundamental to preventing and detecting errors and fraud in accounts payable. Key control activities to assess include:\n",
      "\n",
      "- **Segregation of Duties:** Ensuring no single individual has control over all aspects of a transaction (e.g., invoice approval, payment processing, and record-keeping) reduces the risk of fraud and errors.\n",
      "- **Authorization of Transactions:** Payments and liabilities should be properly authorized according to company policies.\n",
      "- **Documentation and Record Maintenance:** Accurate and complete records, including invoices, purchase orders, and payment vouchers, must be maintained.\n",
      "- **Physical Controls:** Safeguards over assets and records, such as secure storage of payment instruments.\n",
      "- **Independent Checks:** Regular reconciliations and reviews to detect discrepancies or irregularities.\n",
      "\n",
      "Assessing the design and operating effectiveness of these controls is essential, as weak controls may enable fraudulent activities such as embezzlement or invoice fraud [Data: Reports (46, 24, 47, 14, 220, 3, 59)].\n",
      "\n",
      "### 3. Fraud Risk Assessment and Mitigation\n",
      "\n",
      "Accounts payable is a common target for fraud schemes, including fictitious vendors, duplicate payments, and unauthorized disbursements. Auditors should apply fraud risk frameworks such as the Fraud Triangle (Motive, Opportunity, Rationalization) to identify vulnerabilities. Key fraud risks to consider include:\n",
      "\n",
      "- **Invoice Fraud:** Payments made on falsified or altered invoices.\n",
      "- **Phantom Vendors:** Payments to non-existent suppliers controlled by employees.\n",
      "- **Embezzlement:** Diversion of company funds through manipulation of payment details.\n",
      "\n",
      "Mitigating these risks involves verifying vendor legitimacy, scrutinizing unusual transactions, and ensuring robust controls limit opportunities for fraud. Compliance with auditing standards like SAS No. 99 mandates rigorous fraud risk assessment and implementation of mitigating controls [Data: Reports (14, 40, 182, 24, 48, 5, 3, 59)].\n",
      "\n",
      "### 4. Substantive Testing and Audit Evidence\n",
      "\n",
      "Auditors must gather sufficient and reliable audit evidence to support their conclusions. This includes:\n",
      "\n",
      "- **Vouching Transactions:** Matching recorded payables to supporting documents such as invoices, purchase orders, and receiving reports.\n",
      "- **Reconciliation:** Comparing accounts payable records with vendor statements and general ledger balances.\n",
      "- **Confirmation:** Obtaining direct confirmation from vendors regarding outstanding balances.\n",
      "- **Testing for Duplicate or Fraudulent Payments:** Identifying duplicate invoices or payments and verifying authorization.\n",
      "- **Cut-off Testing:** Ensuring transactions are recorded in the correct accounting period.\n",
      "\n",
      "The quality and sufficiency of audit evidence directly impact the credibility of audit findings and the detection of material misstatements [Data: Reports (39, 6, 65, 24, 174)].\n",
      "\n",
      "### 5. Compliance with Regulatory and Professional Standards\n",
      "\n",
      "Auditors should ensure that the accounts payable audit complies with relevant accounting standards (e.g., GAAP, IFRS), auditing standards (e.g., ISA, SAS), and legal requirements such as the Sarbanes–Oxley Act. Awareness of anti-fraud laws, anti-money laundering regulations, and corporate governance frameworks is also important to identify compliance risks and ensure proper reporting [Data: Reports (148, 62, 40, 182, 6, 67)].\n",
      "\n",
      "### 6. Use of Technology and Data Analytics\n",
      "\n",
      "Leveraging technology can enhance audit effectiveness and efficiency. Tools such as data analytics, artificial intelligence, and audit software enable auditors to analyze large volumes of transactions, detect anomalies, and identify patterns indicative of fraud or errors. Techniques like forensic analytics and statistical tests (e.g., Benford's Law) may uncover irregularities that traditional methods might miss. Auditors should also assess IT general controls related to accounts payable systems to ensure data integrity and security [Data: Reports (175, 146, 182, 138, 61, 206)].\n",
      "\n",
      "### 7. Governance and Audit Process Considerations\n",
      "\n",
      "- **Independence and Objectivity:** Auditors must maintain independence and professional skepticism throughout the audit to provide unbiased opinions.\n",
      "- **Audit Planning:** Develop a risk-based audit plan focusing on high-risk areas and allocate resources accordingly.\n",
      "- **Coordination:** Collaborate with internal audit, external auditors, and governance bodies such as the Audit Committee to ensure comprehensive oversight.\n",
      "- **Documentation and Follow-up:** Maintain thorough documentation of audit procedures, findings, and corrective actions to support conclusions and enable continuous improvement.\n",
      "- **Reporting:** Communicate significant findings, control weaknesses, and fraud risks to management and the board or audit committee promptly [Data: Reports (8, 193, 74, 190, 75)].\n",
      "\n",
      "---\n",
      "\n",
      "### Summary\n",
      "\n",
      "In summary, conducting an accounts payable audit requires a comprehensive approach that includes understanding audit objectives, evaluating internal controls, assessing and mitigating fraud risks, performing substantive testing with reliable audit evidence, ensuring compliance with standards, leveraging technology, and maintaining strong governance and audit processes. Attention to these areas will help auditors provide reasonable assurance that accounts payable balances and transactions are accurate, complete, and free from material misstatement or fraud [Data: Reports (46, 24, 14, 40, 182, 6, 39, 174, 148, 62, 175, 8, 193, 74, 190, +more)].\n"
     ]
    }
   ],
   "source": [
    "# Question 1: What are things I should think about when I am conducting an accounts payable audit?\n",
    "response, context = await api.global_search(\n",
    "    config=graphrag_config,\n",
    "    entities=entities,\n",
    "    communities=communities,\n",
    "    community_reports=community_reports,\n",
    "    community_level=2,\n",
    "    dynamic_community_selection=False,\n",
    "    response_type=\"Multiple Paragraphs\",\n",
    "    query=\"What are things I should think about when I am conducting an accounts payable audit?\",\n",
    ")\n",
    "print(response)"
   ]
  }
 ],
 "metadata": {
  "kernelspec": {
   "display_name": ".venv",
   "language": "python",
   "name": "python3"
  },
  "language_info": {
   "codemirror_mode": {
    "name": "ipython",
    "version": 3
   },
   "file_extension": ".py",
   "mimetype": "text/x-python",
   "name": "python",
   "nbconvert_exporter": "python",
   "pygments_lexer": "ipython3",
   "version": "3.11.9"
  }
 },
 "nbformat": 4,
 "nbformat_minor": 5
}
