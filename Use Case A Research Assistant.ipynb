{
 "cells": [
  {
   "cell_type": "markdown",
   "id": "27346169",
   "metadata": {},
   "source": [
    "# Use Case A Overview: Audit Research Assistant\n",
    "\n",
    "GraphRAG does particularly well as a research assistant with large amounts of data. It is able to analyze data, draw meaningful connections, and synthesize concepts and patterns into an insightful outcome. To standup a POC for an audit research assistant, the below limited set of input data files are downloaded from Wikipedia.\n",
    "\n",
    "- [https://en.wikipedia.org/wiki/Financial_audit](https://en.wikipedia.org/wiki/Financial_audit)\n",
    "- [https://en.wikipedia.org/wiki/Internal_audit](https://en.wikipedia.org/wiki/Internal_audit)\n",
    "- [https://en.wikipedia.org/wiki/Money_laundering](https://en.wikipedia.org/wiki/Money_laundering)\n",
    "- [https://en.wikipedia.org/wiki/Financial_accounting](https://en.wikipedia.org/wiki/Financial_accounting)\n",
    "- [https://en.wikipedia.org/wiki/Forensic_accounting](https://en.wikipedia.org/wiki/Forensic_accounting)\n",
    "- [https://en.wikipedia.org/wiki/Embezzlement](https://en.wikipedia.org/wiki/Embezzlement)\n",
    "- [https://en.wikipedia.org/wiki/Fraud](https://en.wikipedia.org/wiki/Fraud)\n",
    "- [https://en.wikipedia.org/wiki/Fraud_deterrence](https://en.wikipedia.org/wiki/Fraud_deterrence)\n",
    "- [https://en.wikipedia.org/wiki/Association_of_Certified_Fraud_Examiners](https://en.wikipedia.org/wiki/Association_of_Certified_Fraud_Examiners)\n",
    "\n",
    "**Outcome**: The ability to reason across documents to respond to user input will be demonstrated.\n",
    "\n",
    "**Note**: This notebook has already been ran in the GitHub repository. However, you can empty the following folders and follow this notebook to reproduce the use case. If you do not want to reproduce the content and just want to run the GraphRAG search, skip to the last section, [Skip the re-creation, just run the Global Search](#skip-the-re-creation-just-run-the-global-search)\n"
   ]
  },
  {
   "cell_type": "markdown",
   "id": "a787e5e3",
   "metadata": {},
   "source": [
    "### Re-create UseCaseA folder"
   ]
  },
  {
   "cell_type": "code",
   "execution_count": 1,
   "id": "7c1a4e92",
   "metadata": {},
   "outputs": [],
   "source": [
    "useCaseDir = \"./UseCaseA\"\n",
    "folders_to_recreate = [\"cache\",\"input\", \"output\"]\n",
    "delete_all = True\n",
    "\n",
    "import shutil\n",
    "import os\n",
    "if delete_all == True:\n",
    "    if os.path.exists(useCaseDir):\n",
    "        shutil.rmtree(useCaseDir)\n",
    "    os.mkdir(useCaseDir)\n",
    "else:\n",
    "    for folder in folders_to_recreate:\n",
    "        if os.path.exists(f\"{useCaseDir}/{folder}\"):\n",
    "            shutil.rmtree(f\"{useCaseDir}/{folder}\")\n",
    "        os.mkdir(f\"{useCaseDir}/{folder}\")\n"
   ]
  },
  {
   "cell_type": "markdown",
   "id": "8c48450c",
   "metadata": {},
   "source": [
    "### Set variables"
   ]
  },
  {
   "cell_type": "code",
   "execution_count": 2,
   "id": "bb10b096",
   "metadata": {},
   "outputs": [
    {
     "data": {
      "text/plain": [
       "True"
      ]
     },
     "execution_count": 2,
     "metadata": {},
     "output_type": "execute_result"
    }
   ],
   "source": [
    "import os, sys\n",
    "import base64, time\n",
    "from dotenv import load_dotenv\n",
    "\n",
    "load_dotenv(override=True)"
   ]
  },
  {
   "cell_type": "markdown",
   "id": "5d1173ee",
   "metadata": {},
   "source": [
    "### Define helper functions"
   ]
  },
  {
   "cell_type": "code",
   "execution_count": 3,
   "id": "47db0a26",
   "metadata": {},
   "outputs": [],
   "source": [
    "import wikipedia\n",
    "\n",
    "def download_wikipedia_page(url: str, directory: str, filename: str):\n",
    "    \"\"\"\n",
    "    Download a Wikipedia page as a UTF-8 file in the specified directory.\n",
    "\n",
    "    Args:\n",
    "        url (str): The Wikipedia page url.\n",
    "        directory (str): The directory where the file will be saved.\n",
    "        filename (str): The name of the file to save the content as.\n",
    "    \"\"\"\n",
    "    # Extract the page title from the url\n",
    "    page_title = url.split(\"/\")[-1]\n",
    "    \n",
    "    # Fetch the page content\n",
    "    try:\n",
    "        page_content = wikipedia.page(page_title, auto_suggest=False, redirect=True, preload=False).content\n",
    "    except wikipedia.exceptions.DisambiguationError as e:\n",
    "        print(f\"Disambiguation error: {e}. Please specify a more specific title.\")\n",
    "        \n",
    "    \n",
    "    \n",
    "    # Ensure the directory exists\n",
    "    os.makedirs(directory, exist_ok=True)\n",
    "    \n",
    "    # Write the content to a UTF-8 file\n",
    "    file_path = os.path.join(directory, filename)\n",
    "    with open(file_path, \"w\", encoding=\"utf-8\") as file:\n",
    "        file.write(page_content)\n",
    "    \n",
    "    print(f\"Page saved to {file_path}\")\n"
   ]
  },
  {
   "cell_type": "markdown",
   "id": "c853b0ac",
   "metadata": {},
   "source": [
    "### Get Wiki Articles"
   ]
  },
  {
   "cell_type": "code",
   "execution_count": 4,
   "id": "adc64410",
   "metadata": {},
   "outputs": [
    {
     "name": "stdout",
     "output_type": "stream",
     "text": [
      "Page saved to ./UseCaseA/input\\financial_audit.txt\n",
      "Page saved to ./UseCaseA/input\\internal_audit.txt\n",
      "Page saved to ./UseCaseA/input\\money_laundering.txt\n",
      "Page saved to ./UseCaseA/input\\financial_accounting.txt\n",
      "Page saved to ./UseCaseA/input\\forensic_accounting.txt\n",
      "Page saved to ./UseCaseA/input\\embezzlement.txt\n",
      "Page saved to ./UseCaseA/input\\fraud.txt\n",
      "Page saved to ./UseCaseA/input\\fraud_deterrence.txt\n",
      "Page saved to ./UseCaseA/input\\association_of_fraud_examiners.txt\n"
     ]
    }
   ],
   "source": [
    "wikipedia_pages = [\n",
    "    {\"url\": \"https://en.wikipedia.org/wiki/Financial_audit\", \"filename\": \"financial_audit.txt\"},\n",
    "    {\"url\": \"https://en.wikipedia.org/wiki/Internal_audit\", \"filename\": \"internal_audit.txt\"},\n",
    "    {\"url\": \"https://en.wikipedia.org/wiki/Money_laundering\", \"filename\": \"money_laundering.txt\"},\n",
    "    {\"url\": \"https://en.wikipedia.org/wiki/Financial_accounting\", \"filename\": \"financial_accounting.txt\"},\n",
    "    {\"url\": \"https://en.wikipedia.org/wiki/Forensic_accounting\", \"filename\": \"forensic_accounting.txt\"},\n",
    "    {\"url\": \"https://en.wikipedia.org/wiki/Embezzlement\", \"filename\": \"embezzlement.txt\"},\n",
    "    {\"url\": \"https://en.wikipedia.org/wiki/Fraud\", \"filename\": \"fraud.txt\"},\n",
    "    {\"url\": \"https://en.wikipedia.org/wiki/Fraud_deterrence\", \"filename\": \"fraud_deterrence.txt\"},\n",
    "    {\"url\": \"https://en.wikipedia.org/wiki/Association_of_Certified_Fraud_Examiners\", \"filename\": \"association_of_fraud_examiners.txt\"},\n",
    "]\n",
    "\n",
    "for page in wikipedia_pages:\n",
    "    download_wikipedia_page(page[\"url\"], \"./UseCaseA/input\", page[\"filename\"])"
   ]
  },
  {
   "cell_type": "markdown",
   "id": "7e991271",
   "metadata": {},
   "source": [
    "### Build the GraphRAG index"
   ]
  },
  {
   "cell_type": "code",
   "execution_count": 29,
   "id": "8d605f8e",
   "metadata": {},
   "outputs": [],
   "source": [
    "from pathlib import Path\n",
    "from pprint import pprint\n",
    "\n",
    "import pandas as pd\n",
    "\n",
    "import graphrag.api as api\n",
    "from graphrag.config.load_config import load_config\n",
    "from graphrag.index.typing.pipeline_run_result import PipelineRunResult\n",
    "module_path = os.path.abspath(os.path.join('.'))\n",
    "sys.path.append(module_path)"
   ]
  },
  {
   "cell_type": "code",
   "execution_count": 30,
   "id": "642e495c",
   "metadata": {},
   "outputs": [
    {
     "data": {
      "text/plain": [
       "'c:\\\\Users\\\\aprilhazel\\\\Source\\\\graphrag_demo_202505\\\\graphrag_demo_202505'"
      ]
     },
     "execution_count": 30,
     "metadata": {},
     "output_type": "execute_result"
    }
   ],
   "source": [
    "module_path"
   ]
  },
  {
   "cell_type": "code",
   "execution_count": 33,
   "id": "df3fa6d1",
   "metadata": {},
   "outputs": [],
   "source": [
    "PROJECT_DIRECTORY = \"UseCaseA\"\n",
    "PROJECT_PATH =os.path.join(module_path, PROJECT_DIRECTORY)"
   ]
  },
  {
   "cell_type": "code",
   "execution_count": 34,
   "id": "a8e7fa7d",
   "metadata": {},
   "outputs": [
    {
     "name": "stdout",
     "output_type": "stream",
     "text": [
      "⠋ GraphRAG Indexer \n",
      "Initializing project at \n",
      "C:\\Users\\aprilhazel\\Source\\graphrag_demo_202505\\graphrag_demo_202505\\UseCaseA\n",
      "⠋ GraphRAG Indexer \n"
     ]
    }
   ],
   "source": [
    "! graphrag init --root ./UseCaseA"
   ]
  },
  {
   "cell_type": "markdown",
   "id": "3b7c56f1",
   "metadata": {},
   "source": [
    ">\n",
    "> **STOP** The above statement generates a .env and settings.yaml file in the UseCaseA directory. \n",
    ">\n",
    "> Configure ```./UseCaseA/.env``` and ```./UseCaseA/settings.yaml``` before proceeding!\n",
    "> \n",
    "> Sample settings are shown in ```./sample_uca.settings.yaml``` file and the ```./sample.env```."
   ]
  },
  {
   "cell_type": "code",
   "execution_count": 36,
   "id": "bc41decf",
   "metadata": {},
   "outputs": [],
   "source": [
    "graphrag_config = load_config(Path(PROJECT_PATH))"
   ]
  },
  {
   "cell_type": "code",
   "execution_count": 37,
   "id": "4050371c",
   "metadata": {},
   "outputs": [
    {
     "name": "stderr",
     "output_type": "stream",
     "text": [
      "c:\\Users\\aprilhazel\\Source\\graphrag_demo_202505\\graphrag_demo_202505\\.venv\\Lib\\site-packages\\sklearn\\utils\\deprecation.py:151: FutureWarning: 'force_all_finite' was renamed to 'ensure_all_finite' in 1.6 and will be removed in 1.8.\n",
      "  warnings.warn(\n",
      "c:\\Users\\aprilhazel\\Source\\graphrag_demo_202505\\graphrag_demo_202505\\.venv\\Lib\\site-packages\\umap\\umap_.py:1952: UserWarning: n_jobs value 1 overridden to 1 by setting random_state. Use no seed for parallelism.\n",
      "  warn(\n"
     ]
    },
    {
     "name": "stdout",
     "output_type": "stream",
     "text": [
      "Workflow Name: create_base_text_units\tStatus: success\n",
      "Workflow Name: create_final_documents\tStatus: success\n",
      "Workflow Name: extract_graph\tStatus: success\n",
      "Workflow Name: finalize_graph\tStatus: success\n",
      "Workflow Name: create_communities\tStatus: success\n",
      "Workflow Name: create_final_text_units\tStatus: success\n",
      "Workflow Name: create_community_reports\tStatus: success\n",
      "Workflow Name: generate_text_embeddings\tStatus: success\n"
     ]
    }
   ],
   "source": [
    "index_result: list[PipelineRunResult] = await api.build_index(config=graphrag_config)\n",
    "\n",
    "# index_result is a list of workflows that make up the indexing pipeline that was run\n",
    "for workflow_result in index_result:\n",
    "    status = f\"error\\n{workflow_result.errors}\" if workflow_result.errors else \"success\"\n",
    "    print(f\"Workflow Name: {workflow_result.workflow}\\tStatus: {status}\")"
   ]
  },
  {
   "cell_type": "code",
   "execution_count": 38,
   "id": "40240ce0",
   "metadata": {},
   "outputs": [],
   "source": [
    "# load the index result into dataframes\n",
    "entities = pd.read_parquet(f\"{PROJECT_DIRECTORY}/output/entities.parquet\")\n",
    "communities = pd.read_parquet(f\"{PROJECT_DIRECTORY}/output/communities.parquet\")\n",
    "community_reports = pd.read_parquet(\n",
    "    f\"{PROJECT_DIRECTORY}/output/community_reports.parquet\"\n",
    ")"
   ]
  },
  {
   "cell_type": "markdown",
   "id": "b0b7d6cb",
   "metadata": {},
   "source": [
    "### Execute a GraphRAG Global Search"
   ]
  },
  {
   "cell_type": "code",
   "execution_count": 39,
   "id": "84769024",
   "metadata": {},
   "outputs": [
    {
     "name": "stdout",
     "output_type": "stream",
     "text": [
      "When conducting an accounts payable audit, there are several critical aspects to consider to ensure a comprehensive and effective audit process. These considerations span compliance, risk management, internal controls, and the audit process itself. Below are key points to guide you through the audit:\n",
      "\n",
      "### Compliance and Legal Considerations\n",
      "\n",
      "1. **Sarbanes-Oxley Act Compliance**: Ensure that your audit procedures align with the Sarbanes-Oxley Act, which mandates robust internal control procedures to prevent corporate scandals and financial misstatements. This Act is crucial for improving corporate accountability and preventing financial misrepresentation [Data: Reports (8, 3, 32)].\n",
      "\n",
      "2. **Anti-Money Laundering Regulations**: Be aware of the potential for money laundering activities and ensure compliance with stringent anti-money laundering regulations. These regulations are vital for maintaining the integrity of the financial system and preventing illicit financial activities [Data: Reports (53, 52)].\n",
      "\n",
      "3. **Legal Frameworks**: Understand the legal context, such as the transition from the Larceny Act 1916 to the Theft Act 1968, which modernized the legal approach to property crimes. This understanding is relevant for ensuring compliance with legal standards in accounts payable audits [Data: Reports (62)].\n",
      "\n",
      "### Internal Controls and Risk Management\n",
      "\n",
      "1. **Internal Controls Evaluation**: Assess the effectiveness of internal controls as outlined in the COSO Internal Control – Integrated Framework. This framework provides a structured approach for organizations to assess and improve their internal control processes, enhancing their ability to achieve business objectives and comply with regulations [Data: Reports (17, 18)].\n",
      "\n",
      "2. **Risk Management Processes**: Internal auditors play a significant role in evaluating the effectiveness of an organization's risk management activities. This includes assessing risk management processes to identify potential risks and implement strategies to mitigate them [Data: Reports (68, 45, 47, 65, 66)].\n",
      "\n",
      "3. **Fraud Risk Assessment**: Conduct fraud risk assessments to identify vulnerabilities and implement controls, helping protect organizations from financial losses and reputational damage. Understanding the Fraud Triangle, which identifies motive, rationalization, and opportunity, is essential in analyzing and preventing fraud [Data: Reports (3, 33, 68, 45, 47, 65, 66)].\n",
      "\n",
      "### Audit Process and Standards\n",
      "\n",
      "1. **Adherence to IIA Standards**: Ensure that the Internal Audit function adheres to the guidelines set by the Institute of Internal Auditors (IIA Standards). These standards provide a framework for conducting audits, ensuring consistency, and maintaining high-quality audit processes [Data: Reports (46)].\n",
      "\n",
      "2. **Audit Phases**: The audit process is divided into four phases: risk assessment and planning, tests of controls and substantive tests, analytical procedures and tests of details, and completion and issuance of the audit report. Each phase has specific objectives and procedures, contributing to a comprehensive evaluation of the financial statements [Data: Reports (40, 7, 42, 50, 71)].\n",
      "\n",
      "3. **Substantive Tests**: These are a key component of the audit process, involving the verification of financial transactions and balances. Substantive tests are designed to detect material misstatements in financial statements, providing assurance that the reported figures are accurate [Data: Reports (40, 7)].\n",
      "\n",
      "### Governance and Oversight\n",
      "\n",
      "1. **Role of the Audit Committee**: The Audit Committee plays a crucial role in overseeing the internal audit function and ensuring the integrity of financial reporting. The committee supervises both internal and external audit functions and manages risk processes, safeguarding the organization's financial health and compliance with regulations [Data: Reports (8)].\n",
      "\n",
      "2. **Collaboration Between Auditors**: The collaboration between internal and external auditors enhances the overall audit process, ensuring comprehensive coverage of financial and operational aspects. External auditors may place limited reliance on the work of internal auditors, highlighting the importance of this collaboration [Data: Reports (68, 45, 47, 65, 66)].\n",
      "\n",
      "By focusing on these areas, you can conduct a thorough and effective accounts payable audit that not only ensures compliance and accuracy but also enhances the overall financial integrity and risk management of the organization.\n"
     ]
    }
   ],
   "source": [
    "# Question 1: What are things I should think about when I am conducting an accounts payable audit?\n",
    "response, context = await api.global_search(\n",
    "    config=graphrag_config,\n",
    "    entities=entities,\n",
    "    communities=communities,\n",
    "    community_reports=community_reports,\n",
    "    community_level=2,\n",
    "    dynamic_community_selection=False,\n",
    "    response_type=\"Multiple Paragraphs\",\n",
    "    query=\"What are things I should think about when I am conducting an accounts payable audit?\",\n",
    ")\n",
    "print(response)"
   ]
  }
 ],
 "metadata": {
  "kernelspec": {
   "display_name": ".venv",
   "language": "python",
   "name": "python3"
  },
  "language_info": {
   "codemirror_mode": {
    "name": "ipython",
    "version": 3
   },
   "file_extension": ".py",
   "mimetype": "text/x-python",
   "name": "python",
   "nbconvert_exporter": "python",
   "pygments_lexer": "ipython3",
   "version": "3.11.9"
  }
 },
 "nbformat": 4,
 "nbformat_minor": 5
}
